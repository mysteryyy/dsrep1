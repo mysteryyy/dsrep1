{
 "cells": [
  {
   "cell_type": "code",
   "execution_count": 1,
   "metadata": {},
   "outputs": [],
   "source": [
    "import mitosheet\n",
    "import os\n",
    "import pdb\n",
    "import tabula\n",
    "from IPython.display import display\n",
    "from matplotlib import rcParams\n",
    "from scipy.stats import ranksums,ttest_ind\n",
    "import numpy as np\n",
    "from numpy.lib.stride_tricks import sliding_window_view\n",
    "import random\n",
    "import seaborn as sns\n",
    "import pandas as pd\n",
    "import matplotlib.pyplot as plt\n",
    "from sklearn.linear_model import  LogisticRegression\n",
    "from sklearn.preprocessing import OneHotEncoder,MinMaxScaler\n",
    "from sklearn.decomposition import PCA\n",
    "from sklearn.metrics import classification_report\n",
    "from sklearn.neighbors import KNeighborsClassifier\n",
    "from sklearn.metrics import classification_report\n",
    "from sklearn import preprocessing\n",
    "import itertools\n",
    "os.chdir(\"/home/sahil/Downloads/PAMAP2_Dataset/\") # Setting up working directory\n",
    "import warnings\n",
    "warnings.filterwarnings(\"ignore\")"
   ]
  },
  {
   "cell_type": "code",
   "execution_count": 3,
   "metadata": {},
   "outputs": [
    {
     "data": {
      "application/vnd.jupyter.widget-view+json": {
       "model_id": "4c81c860e8ce4cb58743350ebaf104cd",
       "version_major": 2,
       "version_minor": 0
      },
      "text/plain": [
       "MitoWidget(analysis_data_json='{\"analysisName\": \"UUID-1aa31724-fc90-4831-a9f0-ccffca335c5d\", \"code\": {\"imports…"
      ]
     },
     "metadata": {},
     "output_type": "display_data"
    }
   ],
   "source": [
    "import mitosheet\n",
    "clean_data = pd.read_pickle('clean_act_data.pkl')\n",
    "mitosheet.sheet(clean_data)"
   ]
  },
  {
   "cell_type": "code",
   "execution_count": null,
   "metadata": {},
   "outputs": [],
   "source": [
    "from mitosheet import *; register_analysis('UUID-1a2c399c-b810-4cf2-af0e-ea474d6f7187')\n",
    "\n",
    "# Pivoted clean_data into df2\n",
    "unused_columns = clean_data.columns.difference(set(['hand_3D_acceleration_16_x']).union(set(['activity_name'])).union(set({'hand_temperature'})))\n",
    "tmp_df = clean_data.drop(unused_columns, axis=1)\n",
    "pivot_table = tmp_df.pivot_table(\n",
    "    index=['hand_3D_acceleration_16_x'],\n",
    "    columns=['activity_name'],\n",
    "    values=['hand_temperature'],\n",
    "    aggfunc={'hand_temperature': ['count']}\n",
    ")\n",
    "pivot_table.columns = [flatten_column_header(col) for col in pivot_table.columns.values]\n",
    "clean_data_pivot = pivot_table.reset_index()\n",
    "\n",
    "# Drop duplicates in clean_data_pivot\n",
    "clean_data_pivot = clean_data_pivot.drop_duplicates(keep='first')\n",
    "\n",
    "# Pivoted clean_data into df2\n",
    "unused_columns = clean_data.columns.difference(set(['hand_3D_acceleration_16_x']).union(set(['activity_name'])).union(set({'hand_3D_acceleration_16_x'})))\n",
    "tmp_df = clean_data.drop(unused_columns, axis=1)\n",
    "pivot_table = tmp_df.pivot_table(\n",
    "    index=['hand_3D_acceleration_16_x'],\n",
    "    columns=['activity_name'],\n",
    "    values=['hand_3D_acceleration_16_x'],\n",
    "    aggfunc={'hand_3D_acceleration_16_x': ['mean']}\n",
    ")\n",
    "pivot_table.columns = [flatten_column_header(col) for col in pivot_table.columns.values]\n",
    "clean_data_pivot = pivot_table.reset_index()\n",
    "\n",
    "# Drop duplicates in clean_data_pivot\n",
    "clean_data_pivot = clean_data_pivot.drop_duplicates(keep='first')\n",
    "\n",
    "# Added column new-column-kws4 to clean_data\n",
    "clean_data.insert(0, 'new-column-kws4', 0)\n"
   ]
  }
 ],
 "metadata": {
  "kernelspec": {
   "display_name": "Python 3",
   "language": "python",
   "name": "python3"
  },
  "language_info": {
   "codemirror_mode": {
    "name": "ipython",
    "version": 3
   },
   "file_extension": ".py",
   "mimetype": "text/x-python",
   "name": "python",
   "nbconvert_exporter": "python",
   "pygments_lexer": "ipython3",
   "version": "3.8.10"
  }
 },
 "nbformat": 4,
 "nbformat_minor": 4
}
